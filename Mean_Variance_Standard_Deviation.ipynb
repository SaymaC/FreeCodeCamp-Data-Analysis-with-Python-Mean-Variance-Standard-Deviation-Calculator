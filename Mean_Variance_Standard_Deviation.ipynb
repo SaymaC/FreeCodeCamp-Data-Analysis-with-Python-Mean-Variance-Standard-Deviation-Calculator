{
  "nbformat": 4,
  "nbformat_minor": 0,
  "metadata": {
    "colab": {
      "provenance": [],
      "authorship_tag": "ABX9TyNho80Hax0glm5oAGr6/KQV",
      "include_colab_link": true
    },
    "kernelspec": {
      "name": "python3",
      "display_name": "Python 3"
    },
    "language_info": {
      "name": "python"
    }
  },
  "cells": [
    {
      "cell_type": "markdown",
      "metadata": {
        "id": "view-in-github",
        "colab_type": "text"
      },
      "source": [
        "<a href=\"https://colab.research.google.com/github/SaymaC/FreeCodeCamp-Data-Analysis-with-Python-Mean-Variance-Standard-Deviation-Calculator/blob/main/Mean_Variance_Standard_Deviation.ipynb\" target=\"_parent\"><img src=\"https://colab.research.google.com/assets/colab-badge.svg\" alt=\"Open In Colab\"/></a>"
      ]
    },
    {
      "cell_type": "code",
      "execution_count": 1,
      "metadata": {
        "id": "NChIs76vA1Mk"
      },
      "outputs": [],
      "source": [
        "# Mean-Variance-Standard Deviation Calculator\n",
        "# FreeCodeCamp Data Analysis with Python Certification Project\n",
        "\n",
        "import numpy as np"
      ]
    },
    {
      "cell_type": "code",
      "source": [
        "def calculate(list):\n",
        "    # Check input length\n",
        "    if len(list) != 9:\n",
        "        raise ValueError(\"List must contain nine numbers.\")\n",
        "\n",
        "    # Convert list to 3x3 numpy array\n",
        "    matrix = np.array(list).reshape(3, 3)\n",
        "\n",
        "# Dictionary of calculations\n",
        "    calculations = {\n",
        "        'mean': [matrix.mean(axis=0).tolist(), matrix.mean(axis=1).tolist(), matrix.mean()],\n",
        "        'variance': [matrix.var(axis=0).tolist(), matrix.var(axis=1).tolist(), matrix.var()],\n",
        "        'standard deviation': [matrix.std(axis=0).tolist(), matrix.std(axis=1).tolist(), matrix.std()],\n",
        "        'max': [matrix.max(axis=0).tolist(), matrix.max(axis=1).tolist(), matrix.max()],\n",
        "        'min': [matrix.min(axis=0).tolist(), matrix.min(axis=1).tolist(), matrix.min()],\n",
        "        'sum': [matrix.sum(axis=0).tolist(), matrix.sum(axis=1).tolist(), matrix.sum()]\n",
        "    }\n",
        "\n",
        "    return calculations"
      ],
      "metadata": {
        "id": "z5hk4Fu5vsaH"
      },
      "execution_count": 10,
      "outputs": []
    },
    {
      "cell_type": "code",
      "source": [
        "print(calculate([0,1,2,3,4,5,6,7,8]))"
      ],
      "metadata": {
        "colab": {
          "base_uri": "https://localhost:8080/"
        },
        "id": "WyKvyfa4w4Pm",
        "outputId": "541329af-3a6b-438d-ff3d-ba5e0b174d1b"
      },
      "execution_count": 11,
      "outputs": [
        {
          "output_type": "stream",
          "name": "stdout",
          "text": [
            "{'mean': [[3.0, 4.0, 5.0], [1.0, 4.0, 7.0], np.float64(4.0)], 'variance': [[6.0, 6.0, 6.0], [0.6666666666666666, 0.6666666666666666, 0.6666666666666666], np.float64(6.666666666666667)], 'standard deviation': [[2.449489742783178, 2.449489742783178, 2.449489742783178], [0.816496580927726, 0.816496580927726, 0.816496580927726], np.float64(2.581988897471611)], 'max': [[6, 7, 8], [2, 5, 8], np.int64(8)], 'min': [[0, 1, 2], [0, 3, 6], np.int64(0)], 'sum': [[9, 12, 15], [3, 12, 21], np.int64(36)]}\n"
          ]
        }
      ]
    }
  ]
}